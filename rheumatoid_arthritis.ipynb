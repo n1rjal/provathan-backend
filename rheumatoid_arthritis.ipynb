{
  "nbformat": 4,
  "nbformat_minor": 0,
  "metadata": {
    "colab": {
      "name": "rheumatoid arthritis.ipynb",
      "provenance": [],
      "collapsed_sections": [],
      "mount_file_id": "1HXNP43quodrGE0rLGseZBjz1Zm4yX1tM",
      "authorship_tag": "ABX9TyNXe5tOF2mnVfuiD8lJMyXF",
      "include_colab_link": true
    },
    "kernelspec": {
      "name": "python3",
      "display_name": "Python 3"
    },
    "language_info": {
      "name": "python"
    }
  },
  "cells": [
    {
      "cell_type": "markdown",
      "metadata": {
        "id": "view-in-github",
        "colab_type": "text"
      },
      "source": [
        "<a href=\"https://colab.research.google.com/github/n1rjal/provathan-backend/blob/master/rheumatoid_arthritis.ipynb\" target=\"_parent\"><img src=\"https://colab.research.google.com/assets/colab-badge.svg\" alt=\"Open In Colab\"/></a>"
      ]
    },
    {
      "cell_type": "code",
      "metadata": {
        "colab": {
          "base_uri": "https://localhost:8080/"
        },
        "id": "rT-bghLh__oz",
        "outputId": "f7721b8e-6f61-4111-bc04-4d0fc3ed8856"
      },
      "source": [
        "import tensorflow as tf\n",
        "import pandas as pd\n",
        "import numpy as np\n",
        "\n",
        "from tensorflow import keras\n",
        "from tensorflow.keras import layers,optimizers\n",
        "from tensorflow.keras.layers.experimental import preprocessing\n",
        "from sklearn.preprocessing import MinMaxScaler\n",
        "from sklearn.model_selection import train_test_split\n",
        "\n",
        "from sklearn.externals import joblib \n",
        "import matplotlib.pyplot as plt\n",
        "import seaborn as sns\n",
        "\n",
        "print(tf.__version__)\n",
        "!python --version"
      ],
      "execution_count": 31,
      "outputs": [
        {
          "output_type": "stream",
          "text": [
            "2.5.0\n",
            "Python 3.7.10\n"
          ],
          "name": "stdout"
        }
      ]
    },
    {
      "cell_type": "code",
      "metadata": {
        "colab": {
          "base_uri": "https://localhost:8080/",
          "height": 258
        },
        "id": "ntnu6TcFALLm",
        "outputId": "8987ec25-09b8-4cf6-956f-4a0db5107fbc"
      },
      "source": [
        "data= pd.read_csv(\"/content/drive/MyDrive/Data Set/2nd data.csv\",index_col=[0])\n",
        "data.head()"
      ],
      "execution_count": 32,
      "outputs": [
        {
          "output_type": "execute_result",
          "data": {
            "text/html": [
              "<div>\n",
              "<style scoped>\n",
              "    .dataframe tbody tr th:only-of-type {\n",
              "        vertical-align: middle;\n",
              "    }\n",
              "\n",
              "    .dataframe tbody tr th {\n",
              "        vertical-align: top;\n",
              "    }\n",
              "\n",
              "    .dataframe thead th {\n",
              "        text-align: right;\n",
              "    }\n",
              "</style>\n",
              "<table border=\"1\" class=\"dataframe\">\n",
              "  <thead>\n",
              "    <tr style=\"text-align: right;\">\n",
              "      <th></th>\n",
              "      <th>age</th>\n",
              "      <th>gender</th>\n",
              "      <th>CCP antibodies</th>\n",
              "      <th>RF</th>\n",
              "      <th>C-reactive protein</th>\n",
              "      <th>Heredity Arthritis Disease</th>\n",
              "      <th>Uric Acid</th>\n",
              "      <th>Erythrocyte sedimentation rate</th>\n",
              "      <th>RBC</th>\n",
              "      <th>WBC</th>\n",
              "      <th>Hematocrit</th>\n",
              "      <th>Hemoglobin</th>\n",
              "      <th>Platelets</th>\n",
              "      <th>risk</th>\n",
              "    </tr>\n",
              "  </thead>\n",
              "  <tbody>\n",
              "    <tr>\n",
              "      <th>0</th>\n",
              "      <td>29</td>\n",
              "      <td>F</td>\n",
              "      <td>False</td>\n",
              "      <td>True</td>\n",
              "      <td>1.7</td>\n",
              "      <td>True</td>\n",
              "      <td>4.910280</td>\n",
              "      <td>4.0</td>\n",
              "      <td>5.07</td>\n",
              "      <td>9.1</td>\n",
              "      <td>36</td>\n",
              "      <td>12.108847</td>\n",
              "      <td>284</td>\n",
              "      <td>49.161434</td>\n",
              "    </tr>\n",
              "    <tr>\n",
              "      <th>1</th>\n",
              "      <td>59</td>\n",
              "      <td>M</td>\n",
              "      <td>False</td>\n",
              "      <td>False</td>\n",
              "      <td>4.6</td>\n",
              "      <td>True</td>\n",
              "      <td>8.426087</td>\n",
              "      <td>17.0</td>\n",
              "      <td>5.26</td>\n",
              "      <td>9.8</td>\n",
              "      <td>43</td>\n",
              "      <td>15.164800</td>\n",
              "      <td>299</td>\n",
              "      <td>65.161287</td>\n",
              "    </tr>\n",
              "    <tr>\n",
              "      <th>2</th>\n",
              "      <td>22</td>\n",
              "      <td>M</td>\n",
              "      <td>False</td>\n",
              "      <td>False</td>\n",
              "      <td>2.0</td>\n",
              "      <td>True</td>\n",
              "      <td>5.372292</td>\n",
              "      <td>33.0</td>\n",
              "      <td>5.13</td>\n",
              "      <td>4.9</td>\n",
              "      <td>41</td>\n",
              "      <td>13.735531</td>\n",
              "      <td>425</td>\n",
              "      <td>44.806760</td>\n",
              "    </tr>\n",
              "    <tr>\n",
              "      <th>3</th>\n",
              "      <td>28</td>\n",
              "      <td>M</td>\n",
              "      <td>True</td>\n",
              "      <td>False</td>\n",
              "      <td>0.6</td>\n",
              "      <td>False</td>\n",
              "      <td>4.111470</td>\n",
              "      <td>5.0</td>\n",
              "      <td>5.12</td>\n",
              "      <td>7.6</td>\n",
              "      <td>44</td>\n",
              "      <td>14.188672</td>\n",
              "      <td>207</td>\n",
              "      <td>48.671328</td>\n",
              "    </tr>\n",
              "    <tr>\n",
              "      <th>4</th>\n",
              "      <td>31</td>\n",
              "      <td>F</td>\n",
              "      <td>False</td>\n",
              "      <td>True</td>\n",
              "      <td>0.4</td>\n",
              "      <td>True</td>\n",
              "      <td>3.307039</td>\n",
              "      <td>16.0</td>\n",
              "      <td>5.27</td>\n",
              "      <td>8.5</td>\n",
              "      <td>46</td>\n",
              "      <td>13.163278</td>\n",
              "      <td>237</td>\n",
              "      <td>52.296722</td>\n",
              "    </tr>\n",
              "  </tbody>\n",
              "</table>\n",
              "</div>"
            ],
            "text/plain": [
              "   age gender  CCP antibodies  ...  Hemoglobin  Platelets       risk\n",
              "0   29      F           False  ...   12.108847        284  49.161434\n",
              "1   59      M           False  ...   15.164800        299  65.161287\n",
              "2   22      M           False  ...   13.735531        425  44.806760\n",
              "3   28      M            True  ...   14.188672        207  48.671328\n",
              "4   31      F           False  ...   13.163278        237  52.296722\n",
              "\n",
              "[5 rows x 14 columns]"
            ]
          },
          "metadata": {
            "tags": []
          },
          "execution_count": 32
        }
      ]
    },
    {
      "cell_type": "code",
      "metadata": {
        "colab": {
          "base_uri": "https://localhost:8080/",
          "height": 351
        },
        "id": "z2I5PcN-MCiK",
        "outputId": "6604c409-bf96-4b14-b19f-5bf8860519cf"
      },
      "source": [
        "data.describe()"
      ],
      "execution_count": 33,
      "outputs": [
        {
          "output_type": "execute_result",
          "data": {
            "text/html": [
              "<div>\n",
              "<style scoped>\n",
              "    .dataframe tbody tr th:only-of-type {\n",
              "        vertical-align: middle;\n",
              "    }\n",
              "\n",
              "    .dataframe tbody tr th {\n",
              "        vertical-align: top;\n",
              "    }\n",
              "\n",
              "    .dataframe thead th {\n",
              "        text-align: right;\n",
              "    }\n",
              "</style>\n",
              "<table border=\"1\" class=\"dataframe\">\n",
              "  <thead>\n",
              "    <tr style=\"text-align: right;\">\n",
              "      <th></th>\n",
              "      <th>age</th>\n",
              "      <th>C-reactive protein</th>\n",
              "      <th>Uric Acid</th>\n",
              "      <th>Erythrocyte sedimentation rate</th>\n",
              "      <th>RBC</th>\n",
              "      <th>WBC</th>\n",
              "      <th>Hematocrit</th>\n",
              "      <th>Hemoglobin</th>\n",
              "      <th>Platelets</th>\n",
              "      <th>risk</th>\n",
              "    </tr>\n",
              "  </thead>\n",
              "  <tbody>\n",
              "    <tr>\n",
              "      <th>count</th>\n",
              "      <td>50000.000000</td>\n",
              "      <td>50000.000000</td>\n",
              "      <td>50000.000000</td>\n",
              "      <td>49404.000000</td>\n",
              "      <td>50000.000000</td>\n",
              "      <td>50000.000000</td>\n",
              "      <td>50000.000000</td>\n",
              "      <td>50000.000000</td>\n",
              "      <td>50000.000000</td>\n",
              "      <td>50000.000000</td>\n",
              "    </tr>\n",
              "    <tr>\n",
              "      <th>mean</th>\n",
              "      <td>59.997140</td>\n",
              "      <td>2.495350</td>\n",
              "      <td>5.612496</td>\n",
              "      <td>14.385738</td>\n",
              "      <td>4.808935</td>\n",
              "      <td>7.814992</td>\n",
              "      <td>41.986320</td>\n",
              "      <td>14.567586</td>\n",
              "      <td>299.998000</td>\n",
              "      <td>57.245430</td>\n",
              "    </tr>\n",
              "    <tr>\n",
              "      <th>std</th>\n",
              "      <td>23.387514</td>\n",
              "      <td>1.443634</td>\n",
              "      <td>1.451381</td>\n",
              "      <td>10.627157</td>\n",
              "      <td>0.507558</td>\n",
              "      <td>1.903460</td>\n",
              "      <td>4.793703</td>\n",
              "      <td>1.396589</td>\n",
              "      <td>86.994609</td>\n",
              "      <td>17.741422</td>\n",
              "    </tr>\n",
              "    <tr>\n",
              "      <th>min</th>\n",
              "      <td>20.000000</td>\n",
              "      <td>0.000000</td>\n",
              "      <td>2.700061</td>\n",
              "      <td>0.000000</td>\n",
              "      <td>3.930000</td>\n",
              "      <td>4.500000</td>\n",
              "      <td>34.000000</td>\n",
              "      <td>11.700030</td>\n",
              "      <td>150.000000</td>\n",
              "      <td>6.414416</td>\n",
              "    </tr>\n",
              "    <tr>\n",
              "      <th>25%</th>\n",
              "      <td>40.000000</td>\n",
              "      <td>1.200000</td>\n",
              "      <td>4.483182</td>\n",
              "      <td>6.000000</td>\n",
              "      <td>4.370000</td>\n",
              "      <td>6.200000</td>\n",
              "      <td>38.000000</td>\n",
              "      <td>13.526587</td>\n",
              "      <td>225.000000</td>\n",
              "      <td>44.611240</td>\n",
              "    </tr>\n",
              "    <tr>\n",
              "      <th>50%</th>\n",
              "      <td>60.000000</td>\n",
              "      <td>2.500000</td>\n",
              "      <td>5.619983</td>\n",
              "      <td>13.000000</td>\n",
              "      <td>4.810000</td>\n",
              "      <td>7.800000</td>\n",
              "      <td>42.000000</td>\n",
              "      <td>14.594026</td>\n",
              "      <td>300.000000</td>\n",
              "      <td>57.349378</td>\n",
              "    </tr>\n",
              "    <tr>\n",
              "      <th>75%</th>\n",
              "      <td>80.000000</td>\n",
              "      <td>3.700000</td>\n",
              "      <td>6.756236</td>\n",
              "      <td>19.000000</td>\n",
              "      <td>5.250000</td>\n",
              "      <td>9.500000</td>\n",
              "      <td>45.000000</td>\n",
              "      <td>15.649918</td>\n",
              "      <td>376.000000</td>\n",
              "      <td>70.116855</td>\n",
              "    </tr>\n",
              "    <tr>\n",
              "      <th>max</th>\n",
              "      <td>100.000000</td>\n",
              "      <td>5.000000</td>\n",
              "      <td>8.499899</td>\n",
              "      <td>50.000000</td>\n",
              "      <td>5.690000</td>\n",
              "      <td>11.100000</td>\n",
              "      <td>52.000000</td>\n",
              "      <td>17.299730</td>\n",
              "      <td>450.000000</td>\n",
              "      <td>94.991219</td>\n",
              "    </tr>\n",
              "  </tbody>\n",
              "</table>\n",
              "</div>"
            ],
            "text/plain": [
              "                age  C-reactive protein  ...     Platelets          risk\n",
              "count  50000.000000        50000.000000  ...  50000.000000  50000.000000\n",
              "mean      59.997140            2.495350  ...    299.998000     57.245430\n",
              "std       23.387514            1.443634  ...     86.994609     17.741422\n",
              "min       20.000000            0.000000  ...    150.000000      6.414416\n",
              "25%       40.000000            1.200000  ...    225.000000     44.611240\n",
              "50%       60.000000            2.500000  ...    300.000000     57.349378\n",
              "75%       80.000000            3.700000  ...    376.000000     70.116855\n",
              "max      100.000000            5.000000  ...    450.000000     94.991219\n",
              "\n",
              "[8 rows x 10 columns]"
            ]
          },
          "metadata": {
            "tags": []
          },
          "execution_count": 33
        }
      ]
    },
    {
      "cell_type": "code",
      "metadata": {
        "id": "KjhOMsVUaDg4"
      },
      "source": [
        "data.isnull().sum()\n",
        "data.dropna(inplace=True)"
      ],
      "execution_count": 34,
      "outputs": []
    },
    {
      "cell_type": "code",
      "metadata": {
        "colab": {
          "base_uri": "https://localhost:8080/",
          "height": 282
        },
        "id": "t8IAocSXMbxl",
        "outputId": "48e572e2-8a0b-473c-817a-cb3f513fd06f"
      },
      "source": [
        "data[\"risk\"].hist()"
      ],
      "execution_count": 35,
      "outputs": [
        {
          "output_type": "execute_result",
          "data": {
            "text/plain": [
              "<matplotlib.axes._subplots.AxesSubplot at 0x7f5c85180ed0>"
            ]
          },
          "metadata": {
            "tags": []
          },
          "execution_count": 35
        },
        {
          "output_type": "display_data",
          "data": {
            "image/png": "[encoded data removed]",
            "text/plain": [
              "<Figure size 432x288 with 1 Axes>"
            ]
          },
          "metadata": {
            "tags": [],
            "needs_background": "light"
          }
        }
      ]
    },
    {
      "cell_type": "markdown",
      "metadata": {
        "id": "xyVbVTOlToKT"
      },
      "source": [
        "## Cleaning Data\n",
        "For Data Labels like M and Female, we are normalizing it as \n",
        "\n",
        " 1. M -> 1 ( True )\n",
        " 2. F -> 0 ( False )"
      ]
    },
    {
      "cell_type": "code",
      "metadata": {
        "id": "B65qBHQqSTJ0"
      },
      "source": [
        "data[\"gender\"] = data[\"gender\"] == \"M\""
      ],
      "execution_count": 36,
      "outputs": []
    },
    {
      "cell_type": "code",
      "metadata": {
        "colab": {
          "base_uri": "https://localhost:8080/",
          "height": 258
        },
        "id": "5wnfoJMaTijp",
        "outputId": "4ecf87f2-a8c6-4803-b4f1-4003f4dc2f89"
      },
      "source": [
        "data.head()"
      ],
      "execution_count": 37,
      "outputs": [
        {
          "output_type": "execute_result",
          "data": {
            "text/html": [
              "<div>\n",
              "<style scoped>\n",
              "    .dataframe tbody tr th:only-of-type {\n",
              "        vertical-align: middle;\n",
              "    }\n",
              "\n",
              "    .dataframe tbody tr th {\n",
              "        vertical-align: top;\n",
              "    }\n",
              "\n",
              "    .dataframe thead th {\n",
              "        text-align: right;\n",
              "    }\n",
              "</style>\n",
              "<table border=\"1\" class=\"dataframe\">\n",
              "  <thead>\n",
              "    <tr style=\"text-align: right;\">\n",
              "      <th></th>\n",
              "      <th>age</th>\n",
              "      <th>gender</th>\n",
              "      <th>CCP antibodies</th>\n",
              "      <th>RF</th>\n",
              "      <th>C-reactive protein</th>\n",
              "      <th>Heredity Arthritis Disease</th>\n",
              "      <th>Uric Acid</th>\n",
              "      <th>Erythrocyte sedimentation rate</th>\n",
              "      <th>RBC</th>\n",
              "      <th>WBC</th>\n",
              "      <th>Hematocrit</th>\n",
              "      <th>Hemoglobin</th>\n",
              "      <th>Platelets</th>\n",
              "      <th>risk</th>\n",
              "    </tr>\n",
              "  </thead>\n",
              "  <tbody>\n",
              "    <tr>\n",
              "      <th>0</th>\n",
              "      <td>29</td>\n",
              "      <td>False</td>\n",
              "      <td>False</td>\n",
              "      <td>True</td>\n",
              "      <td>1.7</td>\n",
              "      <td>True</td>\n",
              "      <td>4.910280</td>\n",
              "      <td>4.0</td>\n",
              "      <td>5.07</td>\n",
              "      <td>9.1</td>\n",
              "      <td>36</td>\n",
              "      <td>12.108847</td>\n",
              "      <td>284</td>\n",
              "      <td>49.161434</td>\n",
              "    </tr>\n",
              "    <tr>\n",
              "      <th>1</th>\n",
              "      <td>59</td>\n",
              "      <td>True</td>\n",
              "      <td>False</td>\n",
              "      <td>False</td>\n",
              "      <td>4.6</td>\n",
              "      <td>True</td>\n",
              "      <td>8.426087</td>\n",
              "      <td>17.0</td>\n",
              "      <td>5.26</td>\n",
              "      <td>9.8</td>\n",
              "      <td>43</td>\n",
              "      <td>15.164800</td>\n",
              "      <td>299</td>\n",
              "      <td>65.161287</td>\n",
              "    </tr>\n",
              "    <tr>\n",
              "      <th>2</th>\n",
              "      <td>22</td>\n",
              "      <td>True</td>\n",
              "      <td>False</td>\n",
              "      <td>False</td>\n",
              "      <td>2.0</td>\n",
              "      <td>True</td>\n",
              "      <td>5.372292</td>\n",
              "      <td>33.0</td>\n",
              "      <td>5.13</td>\n",
              "      <td>4.9</td>\n",
              "      <td>41</td>\n",
              "      <td>13.735531</td>\n",
              "      <td>425</td>\n",
              "      <td>44.806760</td>\n",
              "    </tr>\n",
              "    <tr>\n",
              "      <th>3</th>\n",
              "      <td>28</td>\n",
              "      <td>True</td>\n",
              "      <td>True</td>\n",
              "      <td>False</td>\n",
              "      <td>0.6</td>\n",
              "      <td>False</td>\n",
              "      <td>4.111470</td>\n",
              "      <td>5.0</td>\n",
              "      <td>5.12</td>\n",
              "      <td>7.6</td>\n",
              "      <td>44</td>\n",
              "      <td>14.188672</td>\n",
              "      <td>207</td>\n",
              "      <td>48.671328</td>\n",
              "    </tr>\n",
              "    <tr>\n",
              "      <th>4</th>\n",
              "      <td>31</td>\n",
              "      <td>False</td>\n",
              "      <td>False</td>\n",
              "      <td>True</td>\n",
              "      <td>0.4</td>\n",
              "      <td>True</td>\n",
              "      <td>3.307039</td>\n",
              "      <td>16.0</td>\n",
              "      <td>5.27</td>\n",
              "      <td>8.5</td>\n",
              "      <td>46</td>\n",
              "      <td>13.163278</td>\n",
              "      <td>237</td>\n",
              "      <td>52.296722</td>\n",
              "    </tr>\n",
              "  </tbody>\n",
              "</table>\n",
              "</div>"
            ],
            "text/plain": [
              "   age  gender  CCP antibodies  ...  Hemoglobin  Platelets       risk\n",
              "0   29   False           False  ...   12.108847        284  49.161434\n",
              "1   59    True           False  ...   15.164800        299  65.161287\n",
              "2   22    True           False  ...   13.735531        425  44.806760\n",
              "3   28    True            True  ...   14.188672        207  48.671328\n",
              "4   31   False           False  ...   13.163278        237  52.296722\n",
              "\n",
              "[5 rows x 14 columns]"
            ]
          },
          "metadata": {
            "tags": []
          },
          "execution_count": 37
        }
      ]
    },
    {
      "cell_type": "code",
      "metadata": {
        "colab": {
          "base_uri": "https://localhost:8080/",
          "height": 473
        },
        "id": "_UZFsftjURc0",
        "outputId": "c6bbb1ee-6389-4f2f-803e-a25e2d176a30"
      },
      "source": [
        "#lets change data into features and labels\n",
        "\n",
        "y= data[\"risk\"]\n",
        "X= data.loc[:, data.columns != 'risk'].astype(\"float32\")\n",
        "y\n",
        "X"
      ],
      "execution_count": 38,
      "outputs": [
        {
          "output_type": "execute_result",
          "data": {
            "text/html": [
              "<div>\n",
              "<style scoped>\n",
              "    .dataframe tbody tr th:only-of-type {\n",
              "        vertical-align: middle;\n",
              "    }\n",
              "\n",
              "    .dataframe tbody tr th {\n",
              "        vertical-align: top;\n",
              "    }\n",
              "\n",
              "    .dataframe thead th {\n",
              "        text-align: right;\n",
              "    }\n",
              "</style>\n",
              "<table border=\"1\" class=\"dataframe\">\n",
              "  <thead>\n",
              "    <tr style=\"text-align: right;\">\n",
              "      <th></th>\n",
              "      <th>age</th>\n",
              "      <th>gender</th>\n",
              "      <th>CCP antibodies</th>\n",
              "      <th>RF</th>\n",
              "      <th>C-reactive protein</th>\n",
              "      <th>Heredity Arthritis Disease</th>\n",
              "      <th>Uric Acid</th>\n",
              "      <th>Erythrocyte sedimentation rate</th>\n",
              "      <th>RBC</th>\n",
              "      <th>WBC</th>\n",
              "      <th>Hematocrit</th>\n",
              "      <th>Hemoglobin</th>\n",
              "      <th>Platelets</th>\n",
              "    </tr>\n",
              "  </thead>\n",
              "  <tbody>\n",
              "    <tr>\n",
              "      <th>0</th>\n",
              "      <td>29.0</td>\n",
              "      <td>0.0</td>\n",
              "      <td>0.0</td>\n",
              "      <td>1.0</td>\n",
              "      <td>1.7</td>\n",
              "      <td>1.0</td>\n",
              "      <td>4.910280</td>\n",
              "      <td>4.0</td>\n",
              "      <td>5.07</td>\n",
              "      <td>9.1</td>\n",
              "      <td>36.0</td>\n",
              "      <td>12.108847</td>\n",
              "      <td>284.0</td>\n",
              "    </tr>\n",
              "    <tr>\n",
              "      <th>1</th>\n",
              "      <td>59.0</td>\n",
              "      <td>1.0</td>\n",
              "      <td>0.0</td>\n",
              "      <td>0.0</td>\n",
              "      <td>4.6</td>\n",
              "      <td>1.0</td>\n",
              "      <td>8.426086</td>\n",
              "      <td>17.0</td>\n",
              "      <td>5.26</td>\n",
              "      <td>9.8</td>\n",
              "      <td>43.0</td>\n",
              "      <td>15.164800</td>\n",
              "      <td>299.0</td>\n",
              "    </tr>\n",
              "    <tr>\n",
              "      <th>2</th>\n",
              "      <td>22.0</td>\n",
              "      <td>1.0</td>\n",
              "      <td>0.0</td>\n",
              "      <td>0.0</td>\n",
              "      <td>2.0</td>\n",
              "      <td>1.0</td>\n",
              "      <td>5.372292</td>\n",
              "      <td>33.0</td>\n",
              "      <td>5.13</td>\n",
              "      <td>4.9</td>\n",
              "      <td>41.0</td>\n",
              "      <td>13.735531</td>\n",
              "      <td>425.0</td>\n",
              "    </tr>\n",
              "    <tr>\n",
              "      <th>3</th>\n",
              "      <td>28.0</td>\n",
              "      <td>1.0</td>\n",
              "      <td>1.0</td>\n",
              "      <td>0.0</td>\n",
              "      <td>0.6</td>\n",
              "      <td>0.0</td>\n",
              "      <td>4.111470</td>\n",
              "      <td>5.0</td>\n",
              "      <td>5.12</td>\n",
              "      <td>7.6</td>\n",
              "      <td>44.0</td>\n",
              "      <td>14.188672</td>\n",
              "      <td>207.0</td>\n",
              "    </tr>\n",
              "    <tr>\n",
              "      <th>4</th>\n",
              "      <td>31.0</td>\n",
              "      <td>0.0</td>\n",
              "      <td>0.0</td>\n",
              "      <td>1.0</td>\n",
              "      <td>0.4</td>\n",
              "      <td>1.0</td>\n",
              "      <td>3.307039</td>\n",
              "      <td>16.0</td>\n",
              "      <td>5.27</td>\n",
              "      <td>8.5</td>\n",
              "      <td>46.0</td>\n",
              "      <td>13.163278</td>\n",
              "      <td>237.0</td>\n",
              "    </tr>\n",
              "    <tr>\n",
              "      <th>...</th>\n",
              "      <td>...</td>\n",
              "      <td>...</td>\n",
              "      <td>...</td>\n",
              "      <td>...</td>\n",
              "      <td>...</td>\n",
              "      <td>...</td>\n",
              "      <td>...</td>\n",
              "      <td>...</td>\n",
              "      <td>...</td>\n",
              "      <td>...</td>\n",
              "      <td>...</td>\n",
              "      <td>...</td>\n",
              "      <td>...</td>\n",
              "    </tr>\n",
              "    <tr>\n",
              "      <th>995</th>\n",
              "      <td>86.0</td>\n",
              "      <td>0.0</td>\n",
              "      <td>1.0</td>\n",
              "      <td>1.0</td>\n",
              "      <td>0.6</td>\n",
              "      <td>1.0</td>\n",
              "      <td>6.681817</td>\n",
              "      <td>5.0</td>\n",
              "      <td>5.51</td>\n",
              "      <td>10.8</td>\n",
              "      <td>42.0</td>\n",
              "      <td>14.174668</td>\n",
              "      <td>425.0</td>\n",
              "    </tr>\n",
              "    <tr>\n",
              "      <th>996</th>\n",
              "      <td>77.0</td>\n",
              "      <td>0.0</td>\n",
              "      <td>1.0</td>\n",
              "      <td>0.0</td>\n",
              "      <td>0.0</td>\n",
              "      <td>1.0</td>\n",
              "      <td>6.525177</td>\n",
              "      <td>4.0</td>\n",
              "      <td>4.44</td>\n",
              "      <td>4.6</td>\n",
              "      <td>42.0</td>\n",
              "      <td>11.935639</td>\n",
              "      <td>271.0</td>\n",
              "    </tr>\n",
              "    <tr>\n",
              "      <th>997</th>\n",
              "      <td>22.0</td>\n",
              "      <td>1.0</td>\n",
              "      <td>1.0</td>\n",
              "      <td>0.0</td>\n",
              "      <td>1.8</td>\n",
              "      <td>0.0</td>\n",
              "      <td>7.805681</td>\n",
              "      <td>11.0</td>\n",
              "      <td>5.15</td>\n",
              "      <td>11.0</td>\n",
              "      <td>41.0</td>\n",
              "      <td>17.022968</td>\n",
              "      <td>299.0</td>\n",
              "    </tr>\n",
              "    <tr>\n",
              "      <th>998</th>\n",
              "      <td>42.0</td>\n",
              "      <td>0.0</td>\n",
              "      <td>1.0</td>\n",
              "      <td>0.0</td>\n",
              "      <td>4.8</td>\n",
              "      <td>1.0</td>\n",
              "      <td>5.759043</td>\n",
              "      <td>3.0</td>\n",
              "      <td>5.19</td>\n",
              "      <td>4.8</td>\n",
              "      <td>37.0</td>\n",
              "      <td>11.977140</td>\n",
              "      <td>342.0</td>\n",
              "    </tr>\n",
              "    <tr>\n",
              "      <th>999</th>\n",
              "      <td>55.0</td>\n",
              "      <td>1.0</td>\n",
              "      <td>0.0</td>\n",
              "      <td>0.0</td>\n",
              "      <td>1.6</td>\n",
              "      <td>0.0</td>\n",
              "      <td>4.348709</td>\n",
              "      <td>13.0</td>\n",
              "      <td>4.13</td>\n",
              "      <td>8.2</td>\n",
              "      <td>38.0</td>\n",
              "      <td>16.122511</td>\n",
              "      <td>374.0</td>\n",
              "    </tr>\n",
              "  </tbody>\n",
              "</table>\n",
              "<p>49404 rows × 13 columns</p>\n",
              "</div>"
            ],
            "text/plain": [
              "      age  gender  CCP antibodies   RF  ...   WBC  Hematocrit  Hemoglobin  Platelets\n",
              "0    29.0     0.0             0.0  1.0  ...   9.1        36.0   12.108847      284.0\n",
              "1    59.0     1.0             0.0  0.0  ...   9.8        43.0   15.164800      299.0\n",
              "2    22.0     1.0             0.0  0.0  ...   4.9        41.0   13.735531      425.0\n",
              "3    28.0     1.0             1.0  0.0  ...   7.6        44.0   14.188672      207.0\n",
              "4    31.0     0.0             0.0  1.0  ...   8.5        46.0   13.163278      237.0\n",
              "..    ...     ...             ...  ...  ...   ...         ...         ...        ...\n",
              "995  86.0     0.0             1.0  1.0  ...  10.8        42.0   14.174668      425.0\n",
              "996  77.0     0.0             1.0  0.0  ...   4.6        42.0   11.935639      271.0\n",
              "997  22.0     1.0             1.0  0.0  ...  11.0        41.0   17.022968      299.0\n",
              "998  42.0     0.0             1.0  0.0  ...   4.8        37.0   11.977140      342.0\n",
              "999  55.0     1.0             0.0  0.0  ...   8.2        38.0   16.122511      374.0\n",
              "\n",
              "[49404 rows x 13 columns]"
            ]
          },
          "metadata": {
            "tags": []
          },
          "execution_count": 38
        }
      ]
    },
    {
      "cell_type": "code",
      "metadata": {
        "colab": {
          "base_uri": "https://localhost:8080/"
        },
        "id": "sZXaliTXUZ8F",
        "outputId": "fe127022-23f7-4e0d-e457-e2819c1de72b"
      },
      "source": [
        "#lets check for shape of X and y\n",
        "print(\"Shape of X \",X.shape)\n",
        "print(\"Dim of X \",X.ndim)\n",
        "print(\"Shape of y \",y.shape)\n",
        "print(\"Dim of y \",y.ndim)"
      ],
      "execution_count": 39,
      "outputs": [
        {
          "output_type": "stream",
          "text": [
            "Shape of X  (49404, 13)\n",
            "Dim of X  2\n",
            "Shape of y  (49404,)\n",
            "Dim of y  1\n"
          ],
          "name": "stdout"
        }
      ]
    },
    {
      "cell_type": "code",
      "metadata": {
        "id": "o8Td3kx2UiYD"
      },
      "source": [
        "### Lets make train test split\n",
        "X_train, X_test, y_train, y_test = train_test_split(\n",
        "    X, y, test_size=0.2, random_state=42)"
      ],
      "execution_count": 40,
      "outputs": []
    },
    {
      "cell_type": "code",
      "metadata": {
        "colab": {
          "base_uri": "https://localhost:8080/"
        },
        "id": "94dMWM6uUmrQ",
        "outputId": "69a05cab-3d78-44c5-ebc3-412729223e41"
      },
      "source": [
        "## lets scale our data using robust scalar\n",
        "scaler = MinMaxScaler()\n",
        "scaler.fit(X_train)\n",
        "X_train = scaler.transform(X_train)\n",
        "X_test = scaler.transform(X_test)\n",
        "\n",
        "X_train.shape"
      ],
      "execution_count": 41,
      "outputs": [
        {
          "output_type": "execute_result",
          "data": {
            "text/plain": [
              "(39523, 13)"
            ]
          },
          "metadata": {
            "tags": []
          },
          "execution_count": 41
        }
      ]
    },
    {
      "cell_type": "code",
      "metadata": {
        "id": "C9XpGsRUUonj"
      },
      "source": [
        "#lets make keras model\n",
        "model = keras.Sequential()\n",
        "model.add(layers.Dense(13,input_shape=(1,13),activation=\"relu\"))\n",
        "model.add(layers.Dense(128,activation=\"relu\"))\n",
        "model.add(layers.Dense(128,activation=\"relu\"))\n",
        "model.add(layers.Dense(128,activation=\"relu\"))\n",
        "model.add(layers.Dense(128,activation=\"relu\"))\n",
        "model.add(layers.Dense(1,activation=\"relu\"))"
      ],
      "execution_count": 42,
      "outputs": []
    },
    {
      "cell_type": "code",
      "metadata": {
        "id": "37sTau2jUq1K"
      },
      "source": [
        "model.compile(optimizer=\"adam\", loss='mean_squared_error')"
      ],
      "execution_count": 43,
      "outputs": []
    },
    {
      "cell_type": "code",
      "metadata": {
        "colab": {
          "base_uri": "https://localhost:8080/"
        },
        "id": "0VwbmgOUV9Rq",
        "outputId": "cd2ca310-0048-4048-f948-62720f5096d8"
      },
      "source": [
        "model.summary()"
      ],
      "execution_count": 44,
      "outputs": [
        {
          "output_type": "stream",
          "text": [
            "Model: \"sequential_2\"\n",
            "_________________________________________________________________\n",
            "Layer (type)                 Output Shape              Param #   \n",
            "=================================================================\n",
            "dense_12 (Dense)             (None, 1, 13)             182       \n",
            "_________________________________________________________________\n",
            "dense_13 (Dense)             (None, 1, 128)            1792      \n",
            "_________________________________________________________________\n",
            "dense_14 (Dense)             (None, 1, 128)            16512     \n",
            "_________________________________________________________________\n",
            "dense_15 (Dense)             (None, 1, 128)            16512     \n",
            "_________________________________________________________________\n",
            "dense_16 (Dense)             (None, 1, 128)            16512     \n",
            "_________________________________________________________________\n",
            "dense_17 (Dense)             (None, 1, 1)              129       \n",
            "=================================================================\n",
            "Total params: 51,639\n",
            "Trainable params: 51,639\n",
            "Non-trainable params: 0\n",
            "_________________________________________________________________\n"
          ],
          "name": "stdout"
        }
      ]
    },
    {
      "cell_type": "code",
      "metadata": {
        "colab": {
          "base_uri": "https://localhost:8080/"
        },
        "id": "FP_37e1sVkZn",
        "outputId": "d6306c26-9302-4bcc-896e-5d8c6abc0eee"
      },
      "source": [
        "#train the neural network on the train dataset\n",
        "history = model.fit(X_train, y_train, epochs=100, validation_split=0.2)"
      ],
      "execution_count": 45,
      "outputs": [
        {
          "output_type": "stream",
          "text": [
            "Epoch 1/100\n",
            "WARNING:tensorflow:Model was constructed with shape (None, 1, 13) for input KerasTensor(type_spec=TensorSpec(shape=(None, 1, 13), dtype=tf.float32, name='dense_12_input'), name='dense_12_input', description=\"created by layer 'dense_12_input'\"), but it was called on an input with incompatible shape (None, 13).\n",
            "WARNING:tensorflow:Model was constructed with shape (None, 1, 13) for input KerasTensor(type_spec=TensorSpec(shape=(None, 1, 13), dtype=tf.float32, name='dense_12_input'), name='dense_12_input', description=\"created by layer 'dense_12_input'\"), but it was called on an input with incompatible shape (None, 13).\n",
            "972/989 [============================>.] - ETA: 0s - loss: 131.4550WARNING:tensorflow:Model was constructed with shape (None, 1, 13) for input KerasTensor(type_spec=TensorSpec(shape=(None, 1, 13), dtype=tf.float32, name='dense_12_input'), name='dense_12_input', description=\"created by layer 'dense_12_input'\"), but it was called on an input with incompatible shape (None, 13).\n",
            "989/989 [==============================] - 3s 3ms/step - loss: 129.4467 - val_loss: 8.0284\n",
            "Epoch 2/100\n",
            "989/989 [==============================] - 3s 3ms/step - loss: 6.7730 - val_loss: 9.9491\n",
            "Epoch 3/100\n",
            "989/989 [==============================] - 3s 3ms/step - loss: 3.5931 - val_loss: 3.5805\n",
            "Epoch 4/100\n",
            "989/989 [==============================] - 3s 3ms/step - loss: 2.6158 - val_loss: 2.0798\n",
            "Epoch 5/100\n",
            "989/989 [==============================] - 2s 2ms/step - loss: 2.1574 - val_loss: 4.9565\n",
            "Epoch 6/100\n",
            "989/989 [==============================] - 3s 3ms/step - loss: 1.9495 - val_loss: 2.3496\n",
            "Epoch 7/100\n",
            "989/989 [==============================] - 3s 3ms/step - loss: 1.7272 - val_loss: 2.6170\n",
            "Epoch 8/100\n",
            "989/989 [==============================] - 3s 3ms/step - loss: 1.4589 - val_loss: 2.0267\n",
            "Epoch 9/100\n",
            "989/989 [==============================] - 3s 3ms/step - loss: 1.3052 - val_loss: 1.4387\n",
            "Epoch 10/100\n",
            "989/989 [==============================] - 3s 3ms/step - loss: 1.0055 - val_loss: 1.1039\n",
            "Epoch 11/100\n",
            "989/989 [==============================] - 2s 2ms/step - loss: 0.9934 - val_loss: 0.8237\n",
            "Epoch 12/100\n",
            "989/989 [==============================] - 2s 2ms/step - loss: 0.8862 - val_loss: 0.6634\n",
            "Epoch 13/100\n",
            "989/989 [==============================] - 3s 3ms/step - loss: 0.7737 - val_loss: 0.8128\n",
            "Epoch 14/100\n",
            "989/989 [==============================] - 3s 3ms/step - loss: 0.6176 - val_loss: 1.5126\n",
            "Epoch 15/100\n",
            "989/989 [==============================] - 3s 3ms/step - loss: 0.6835 - val_loss: 0.4652\n",
            "Epoch 16/100\n",
            "989/989 [==============================] - 2s 2ms/step - loss: 0.4789 - val_loss: 0.3889\n",
            "Epoch 17/100\n",
            "989/989 [==============================] - 2s 2ms/step - loss: 0.5284 - val_loss: 0.5353\n",
            "Epoch 18/100\n",
            "989/989 [==============================] - 3s 3ms/step - loss: 0.5058 - val_loss: 1.6940\n",
            "Epoch 19/100\n",
            "989/989 [==============================] - 3s 3ms/step - loss: 0.7760 - val_loss: 1.0086\n",
            "Epoch 20/100\n",
            "989/989 [==============================] - 3s 3ms/step - loss: 0.4509 - val_loss: 0.1957\n",
            "Epoch 21/100\n",
            "989/989 [==============================] - 3s 3ms/step - loss: 0.2960 - val_loss: 1.0316\n",
            "Epoch 22/100\n",
            "989/989 [==============================] - 3s 3ms/step - loss: 0.5901 - val_loss: 0.8510\n",
            "Epoch 23/100\n",
            "989/989 [==============================] - 3s 3ms/step - loss: 0.2858 - val_loss: 0.1908\n",
            "Epoch 24/100\n",
            "989/989 [==============================] - 3s 3ms/step - loss: 0.3234 - val_loss: 1.0443\n",
            "Epoch 25/100\n",
            "989/989 [==============================] - 3s 3ms/step - loss: 0.2326 - val_loss: 0.3759\n",
            "Epoch 26/100\n",
            "989/989 [==============================] - 3s 3ms/step - loss: 0.2240 - val_loss: 0.1661\n",
            "Epoch 27/100\n",
            "989/989 [==============================] - 3s 3ms/step - loss: 0.3732 - val_loss: 0.3599\n",
            "Epoch 28/100\n",
            "989/989 [==============================] - 3s 3ms/step - loss: 0.2498 - val_loss: 0.1942\n",
            "Epoch 29/100\n",
            "989/989 [==============================] - 2s 2ms/step - loss: 0.1825 - val_loss: 0.1268\n",
            "Epoch 30/100\n",
            "989/989 [==============================] - 3s 3ms/step - loss: 0.3142 - val_loss: 0.1141\n",
            "Epoch 31/100\n",
            "989/989 [==============================] - 3s 3ms/step - loss: 0.1793 - val_loss: 0.1658\n",
            "Epoch 32/100\n",
            "989/989 [==============================] - 3s 3ms/step - loss: 0.1964 - val_loss: 0.1904\n",
            "Epoch 33/100\n",
            "989/989 [==============================] - 3s 3ms/step - loss: 0.1965 - val_loss: 0.5229\n",
            "Epoch 34/100\n",
            "989/989 [==============================] - 3s 3ms/step - loss: 0.1961 - val_loss: 0.1372\n",
            "Epoch 35/100\n",
            "989/989 [==============================] - 3s 3ms/step - loss: 0.1450 - val_loss: 0.0797\n",
            "Epoch 36/100\n",
            "989/989 [==============================] - 2s 2ms/step - loss: 0.5394 - val_loss: 2.2894\n",
            "Epoch 37/100\n",
            "989/989 [==============================] - 2s 3ms/step - loss: 0.9591 - val_loss: 0.1588\n",
            "Epoch 38/100\n",
            "989/989 [==============================] - 3s 3ms/step - loss: 0.1132 - val_loss: 0.0731\n",
            "Epoch 39/100\n",
            "989/989 [==============================] - 3s 3ms/step - loss: 0.1326 - val_loss: 0.1239\n",
            "Epoch 40/100\n",
            "989/989 [==============================] - 3s 3ms/step - loss: 0.1825 - val_loss: 0.2102\n",
            "Epoch 41/100\n",
            "989/989 [==============================] - 3s 3ms/step - loss: 0.2881 - val_loss: 0.1109\n",
            "Epoch 42/100\n",
            "989/989 [==============================] - 3s 3ms/step - loss: 0.1367 - val_loss: 0.1607\n",
            "Epoch 43/100\n",
            "989/989 [==============================] - 3s 3ms/step - loss: 0.1664 - val_loss: 0.2889\n",
            "Epoch 44/100\n",
            "989/989 [==============================] - 3s 3ms/step - loss: 0.1865 - val_loss: 7.3630\n",
            "Epoch 45/100\n",
            "989/989 [==============================] - 3s 3ms/step - loss: 0.3182 - val_loss: 1.5182\n",
            "Epoch 46/100\n",
            "989/989 [==============================] - 3s 3ms/step - loss: 0.3844 - val_loss: 0.0849\n",
            "Epoch 47/100\n",
            "989/989 [==============================] - 3s 3ms/step - loss: 0.1399 - val_loss: 0.7643\n",
            "Epoch 48/100\n",
            "989/989 [==============================] - 3s 3ms/step - loss: 0.1161 - val_loss: 0.1167\n",
            "Epoch 49/100\n",
            "989/989 [==============================] - 3s 3ms/step - loss: 0.2394 - val_loss: 0.2666\n",
            "Epoch 50/100\n",
            "989/989 [==============================] - 3s 3ms/step - loss: 0.1242 - val_loss: 0.0762\n",
            "Epoch 51/100\n",
            "989/989 [==============================] - 3s 3ms/step - loss: 0.1534 - val_loss: 0.0724\n",
            "Epoch 52/100\n",
            "989/989 [==============================] - 3s 3ms/step - loss: 0.1496 - val_loss: 1.6005\n",
            "Epoch 53/100\n",
            "989/989 [==============================] - 3s 3ms/step - loss: 0.1182 - val_loss: 0.1610\n",
            "Epoch 54/100\n",
            "989/989 [==============================] - 3s 3ms/step - loss: 0.1692 - val_loss: 0.4001\n",
            "Epoch 55/100\n",
            "989/989 [==============================] - 3s 3ms/step - loss: 0.1852 - val_loss: 0.2630\n",
            "Epoch 56/100\n",
            "989/989 [==============================] - 3s 3ms/step - loss: 0.1207 - val_loss: 0.0546\n",
            "Epoch 57/100\n",
            "989/989 [==============================] - 3s 3ms/step - loss: 0.1085 - val_loss: 0.0474\n",
            "Epoch 58/100\n",
            "989/989 [==============================] - 3s 3ms/step - loss: 0.1548 - val_loss: 0.0349\n",
            "Epoch 59/100\n",
            "989/989 [==============================] - 3s 3ms/step - loss: 0.1252 - val_loss: 0.1012\n",
            "Epoch 60/100\n",
            "989/989 [==============================] - 3s 3ms/step - loss: 0.1365 - val_loss: 0.0516\n",
            "Epoch 61/100\n",
            "989/989 [==============================] - 2s 2ms/step - loss: 0.1277 - val_loss: 0.0783\n",
            "Epoch 62/100\n",
            "989/989 [==============================] - 3s 3ms/step - loss: 0.1147 - val_loss: 0.0652\n",
            "Epoch 63/100\n",
            "989/989 [==============================] - 3s 3ms/step - loss: 0.1055 - val_loss: 0.1371\n",
            "Epoch 64/100\n",
            "989/989 [==============================] - 3s 3ms/step - loss: 0.0994 - val_loss: 0.0259\n",
            "Epoch 65/100\n",
            "989/989 [==============================] - 3s 3ms/step - loss: 0.0888 - val_loss: 0.0903\n",
            "Epoch 66/100\n",
            "989/989 [==============================] - 2s 3ms/step - loss: 0.1149 - val_loss: 0.0787\n",
            "Epoch 67/100\n",
            "989/989 [==============================] - 3s 3ms/step - loss: 0.1244 - val_loss: 0.5609\n",
            "Epoch 68/100\n",
            "989/989 [==============================] - 3s 3ms/step - loss: 0.0853 - val_loss: 0.3252\n",
            "Epoch 69/100\n",
            "989/989 [==============================] - 3s 3ms/step - loss: 0.1454 - val_loss: 0.1700\n",
            "Epoch 70/100\n",
            "989/989 [==============================] - 3s 3ms/step - loss: 0.0959 - val_loss: 0.2576\n",
            "Epoch 71/100\n",
            "989/989 [==============================] - 3s 3ms/step - loss: 0.0742 - val_loss: 0.2399\n",
            "Epoch 72/100\n",
            "989/989 [==============================] - 3s 3ms/step - loss: 0.1517 - val_loss: 0.2234\n",
            "Epoch 73/100\n",
            "989/989 [==============================] - 3s 3ms/step - loss: 0.1177 - val_loss: 0.1191\n",
            "Epoch 74/100\n",
            "989/989 [==============================] - 3s 3ms/step - loss: 0.2075 - val_loss: 0.2238\n",
            "Epoch 75/100\n",
            "989/989 [==============================] - 3s 3ms/step - loss: 0.0402 - val_loss: 0.0360\n",
            "Epoch 76/100\n",
            "989/989 [==============================] - 3s 3ms/step - loss: 0.1601 - val_loss: 0.0384\n",
            "Epoch 77/100\n",
            "989/989 [==============================] - 3s 3ms/step - loss: 0.0490 - val_loss: 0.3933\n",
            "Epoch 78/100\n",
            "989/989 [==============================] - 3s 3ms/step - loss: 0.1166 - val_loss: 0.0317\n",
            "Epoch 79/100\n",
            "989/989 [==============================] - 3s 3ms/step - loss: 0.0576 - val_loss: 0.2915\n",
            "Epoch 80/100\n",
            "989/989 [==============================] - 3s 3ms/step - loss: 0.1643 - val_loss: 0.0207\n",
            "Epoch 81/100\n",
            "989/989 [==============================] - 3s 3ms/step - loss: 0.0599 - val_loss: 0.1116\n",
            "Epoch 82/100\n",
            "989/989 [==============================] - 2s 2ms/step - loss: 0.1378 - val_loss: 0.0173\n",
            "Epoch 83/100\n",
            "989/989 [==============================] - 3s 3ms/step - loss: 0.0980 - val_loss: 0.0243\n",
            "Epoch 84/100\n",
            "989/989 [==============================] - 3s 3ms/step - loss: 0.0417 - val_loss: 0.0340\n",
            "Epoch 85/100\n",
            "989/989 [==============================] - 3s 3ms/step - loss: 0.1524 - val_loss: 0.0498\n",
            "Epoch 86/100\n",
            "989/989 [==============================] - 3s 3ms/step - loss: 0.0361 - val_loss: 0.0377\n",
            "Epoch 87/100\n",
            "989/989 [==============================] - 3s 3ms/step - loss: 0.1002 - val_loss: 0.0504\n",
            "Epoch 88/100\n",
            "989/989 [==============================] - 3s 3ms/step - loss: 0.0826 - val_loss: 0.0126\n",
            "Epoch 89/100\n",
            "989/989 [==============================] - 3s 3ms/step - loss: 0.0963 - val_loss: 0.0226\n",
            "Epoch 90/100\n",
            "989/989 [==============================] - 3s 3ms/step - loss: 0.0628 - val_loss: 0.4182\n",
            "Epoch 91/100\n",
            "989/989 [==============================] - 3s 3ms/step - loss: 0.0940 - val_loss: 0.0341\n",
            "Epoch 92/100\n",
            "989/989 [==============================] - 3s 3ms/step - loss: 0.0605 - val_loss: 0.0287\n",
            "Epoch 93/100\n",
            "989/989 [==============================] - 3s 3ms/step - loss: 0.0903 - val_loss: 0.0414\n",
            "Epoch 94/100\n",
            "989/989 [==============================] - 3s 3ms/step - loss: 0.0578 - val_loss: 0.1180\n",
            "Epoch 95/100\n",
            "989/989 [==============================] - 3s 3ms/step - loss: 0.0682 - val_loss: 0.1558\n",
            "Epoch 96/100\n",
            "989/989 [==============================] - 3s 3ms/step - loss: 0.1044 - val_loss: 0.1984\n",
            "Epoch 97/100\n",
            "989/989 [==============================] - 3s 3ms/step - loss: 0.0511 - val_loss: 0.0288\n",
            "Epoch 98/100\n",
            "989/989 [==============================] - 3s 3ms/step - loss: 0.0578 - val_loss: 0.0392\n",
            "Epoch 99/100\n",
            "989/989 [==============================] - 3s 3ms/step - loss: 0.0848 - val_loss: 0.0197\n",
            "Epoch 100/100\n",
            "989/989 [==============================] - 3s 3ms/step - loss: 0.0566 - val_loss: 0.0175\n"
          ],
          "name": "stdout"
        }
      ]
    },
    {
      "cell_type": "code",
      "metadata": {
        "colab": {
          "base_uri": "https://localhost:8080/",
          "height": 282
        },
        "id": "gH0AT4q-UxxZ",
        "outputId": "36bb5de0-1697-4e8a-b336-c60e8f5aae1e"
      },
      "source": [
        "#plot the loss and validation loss of the dataset\n",
        "history_df = pd.DataFrame(history.history)\n",
        "plt.plot(history_df['loss'], label='loss')\n",
        "plt.plot(history_df['val_loss'], label='val_loss')\n",
        "\n",
        "plt.legend()\n"
      ],
      "execution_count": 46,
      "outputs": [
        {
          "output_type": "execute_result",
          "data": {
            "text/plain": [
              "<matplotlib.legend.Legend at 0x7f5c80d1d510>"
            ]
          },
          "metadata": {
            "tags": []
          },
          "execution_count": 46
        },
        {
          "output_type": "display_data",
          "data": {
            "image/png": "[encoded data removed]",
            "text/plain": [
              "<Figure size 432x288 with 1 Axes>"
            ]
          },
          "metadata": {
            "tags": [],
            "needs_background": "light"
          }
        }
      ]
    },
    {
      "cell_type": "code",
      "metadata": {
        "colab": {
          "base_uri": "https://localhost:8080/"
        },
        "id": "NfNw-BwBU_LU",
        "outputId": "8724419c-aa0c-4d09-d3be-fe56e9e2752b"
      },
      "source": [
        "model.save(\"ra.h5\")\n",
        "joblib.dump(scaler,\"minmax.pkl\")"
      ],
      "execution_count": 47,
      "outputs": [
        {
          "output_type": "execute_result",
          "data": {
            "text/plain": [
              "['minmax.pkl']"
            ]
          },
          "metadata": {
            "tags": []
          },
          "execution_count": 47
        }
      ]
    },
    {
      "cell_type": "code",
      "metadata": {
        "colab": {
          "base_uri": "https://localhost:8080/",
          "height": 675
        },
        "id": "7SrCd_1L4BBE",
        "outputId": "6e25e6ba-9f22-4554-da99-5f3960cff585"
      },
      "source": [
        "y_pred = model.predict(X_test).flatten()\n",
        "plt.figure(figsize=(10,10))\n",
        "plt.scatter(y_test, y_pred, linewidths=1)\n",
        "plt.plot(y_test,y_test,color=\"yellow\",label=\"Real Value\")\n",
        "plt.xlabel('True values')\n",
        "plt.ylabel('Predicted values')\n",
        "plt.title('A plot that shows the true and predicted values')"
      ],
      "execution_count": 48,
      "outputs": [
        {
          "output_type": "stream",
          "text": [
            "WARNING:tensorflow:Model was constructed with shape (None, 1, 13) for input KerasTensor(type_spec=TensorSpec(shape=(None, 1, 13), dtype=tf.float32, name='dense_12_input'), name='dense_12_input', description=\"created by layer 'dense_12_input'\"), but it was called on an input with incompatible shape (None, 13).\n"
          ],
          "name": "stdout"
        },
        {
          "output_type": "execute_result",
          "data": {
            "text/plain": [
              "Text(0.5, 1.0, 'A plot that shows the true and predicted values')"
            ]
          },
          "metadata": {
            "tags": []
          },
          "execution_count": 48
        },
        {
          "output_type": "display_data",
          "data": {
            "image/png": "[encoded data removed]",
            "text/plain": [
              "<Figure size 720x720 with 1 Axes>"
            ]
          },
          "metadata": {
            "tags": [],
            "needs_background": "light"
          }
        }
      ]
    },
    {
      "cell_type": "code",
      "metadata": {
        "colab": {
          "base_uri": "https://localhost:8080/"
        },
        "id": "SI-P6JxNcz6D",
        "outputId": "0b91c679-5949-4277-bb14-3100a4f25988"
      },
      "source": [
        "data.keys()"
      ],
      "execution_count": 49,
      "outputs": [
        {
          "output_type": "execute_result",
          "data": {
            "text/plain": [
              "Index(['age', 'gender', 'CCP antibodies', 'RF', 'C-reactive protein',\n",
              "       'Heredity Arthritis Disease', 'Uric Acid',\n",
              "       'Erythrocyte sedimentation rate', 'RBC', 'WBC', 'Hematocrit',\n",
              "       'Hemoglobin', 'Platelets', 'risk'],\n",
              "      dtype='object')"
            ]
          },
          "metadata": {
            "tags": []
          },
          "execution_count": 49
        }
      ]
    },
    {
      "cell_type": "code",
      "metadata": {
        "id": "BpDW0fWsandz"
      },
      "source": [
        "# the model in the server has 300 epoch\n",
        "class ProvathanModel:\n",
        "  def __init__(self,model_path,min_max_path):\n",
        "    self.MinMaxScalar= joblib.load(min_max_path) \n",
        "    self.model= keras.models.load_model(model_path)\n",
        "\n",
        "  def predict(self, row):\n",
        "    gender = row[\"gender\"]\n",
        "    age = row[\"age\"] == \"M\"\n",
        "    CCP = row[\"CCP antibodies\"]\n",
        "    RF  = row[\"RF\"]\n",
        "    CRP = row[\"C-reactive protein\"]\n",
        "    HAD = row[\"Heredity Arthritis Disease\"]\n",
        "    UA  = row[\"Uric Acid\"]\n",
        "    ESR = row[\"Erythrocyte sedimentation rate\"]\n",
        "    RBC = row[\"RBC\"]\n",
        "    WBC = row[\"WBC\"]\n",
        "    HMC = row[\"Hematocrit\"]\n",
        "    HMG = row[\"Hemoglobin\"]\n",
        "    PLT = row[\"Platelets\"]\n",
        "\n",
        "    input = pd.DataFrame({\"gender\":[gender],\n",
        "                       \"age\":[age],\n",
        "                       \"CCP antibodies\":[CCP],\n",
        "                       \"RF\":[RF],\n",
        "                       \"C-reactive protein\":[CRP],\n",
        "                       \"Heredity Arthritis Disease\":[HAD],\n",
        "                       \"Uric Acid\":[UA],\n",
        "                       \"Erythrocyte sedimentation rate\":[ESR],\n",
        "                       \"RBC\":[RBC],\n",
        "                       \"WBC\":[WBC],\n",
        "                       \"Hematocrit\":[HMC],\n",
        "                       \"Hemoglobin\":[HMG],\n",
        "                       \"Platelets\":[PLT]\n",
        "                       }).astype(\"float32\")\n",
        "    \n",
        "    normalized_input = self.MinMaxScalar.transform(input)\n",
        "    result = self.model.predict( normalized_input )\n",
        "    return float(result)"
      ],
      "execution_count": 58,
      "outputs": []
    },
    {
      "cell_type": "code",
      "metadata": {
        "id": "vw6HXSHPc_hV"
      },
      "source": [
        "p1 =  ProvathanModel(model_path=\"/content/ra.h5\", min_max_path=\"/content/minmax.pkl\")"
      ],
      "execution_count": 59,
      "outputs": []
    },
    {
      "cell_type": "code",
      "metadata": {
        "colab": {
          "base_uri": "https://localhost:8080/"
        },
        "id": "CDfJOVcqfCNv",
        "outputId": "3d11622a-10b2-4e0b-aa4b-0e92c1e0d5ed"
      },
      "source": [
        "p1.predict({'C-reactive protein': 1.7000000000000002,\n",
        " 'CCP antibodies': False,\n",
        " 'Erythrocyte sedimentation rate': 4.0,\n",
        " 'Hematocrit': 36,\n",
        " 'Hemoglobin': 12.1088465273,\n",
        " 'Heredity Arthritis Disease': True,\n",
        " 'Platelets': 284,\n",
        " 'RBC': 5.07,\n",
        " 'RF': True,\n",
        " 'Uric Acid': 4.9102802805,\n",
        " 'WBC': 9.1,\n",
        " 'age': 29,\n",
        " 'gender': False}\n",
        " )"
      ],
      "execution_count": 60,
      "outputs": [
        {
          "output_type": "stream",
          "text": [
            "WARNING:tensorflow:Model was constructed with shape (None, 1, 13) for input KerasTensor(type_spec=TensorSpec(shape=(None, 1, 13), dtype=tf.float32, name='dense_12_input'), name='dense_12_input', description=\"created by layer 'dense_12_input'\"), but it was called on an input with incompatible shape (None, 13).\n"
          ],
          "name": "stdout"
        },
        {
          "output_type": "execute_result",
          "data": {
            "text/plain": [
              "46.28342819213867"
            ]
          },
          "metadata": {
            "tags": []
          },
          "execution_count": 60
        }
      ]
    }
  ]
}